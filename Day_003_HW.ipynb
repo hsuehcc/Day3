{
 "cells": [
  {
   "cell_type": "markdown",
   "metadata": {},
   "source": [
    "## [作業目標]\n",
    "持續接觸有關機器學習的相關專案與最新技術"
   ]
  },
  {
   "cell_type": "markdown",
   "metadata": {},
   "source": [
    "## [作業重點]\n",
    "透過觀察頂尖公司的機器學習文章，來了解各公司是怎麼應用機器學習在實際的專案上"
   ]
  },
  {
   "cell_type": "markdown",
   "metadata": {},
   "source": [
    "## [作業]\n",
    "今天的作業希望大家能夠看看全球機器學習巨頭們在做的機器學習專案。以 google 為例，下圖是 Google 內部專案使用機器學習的數量，隨著時間進展，現在早已超過 2000 個專案在使用機器學習。"
   ]
  },
  {
   "cell_type": "markdown",
   "metadata": {},
   "source": [
    "![image](https://cdn-images-1.medium.com/max/800/1*U_L8qI8RmYS-MOBrYvXhSA.png)"
   ]
  },
  {
   "cell_type": "markdown",
   "metadata": {},
   "source": [
    "底下幫同學整理幾間知名企業的 blog 或機器學習網站 (自行搜尋也可)，這些網站都會整理最新的機器學習專案或者是技術文章，請挑選一篇文章閱讀並試著回答\n",
    "1. 專案的目標？ (要解決什麼問題）\n",
    "2. 使用的技術是？ (只需知道名稱即可，例如：使用 CNN 卷積神經網路做影像分類)\n",
    "3. 資料來源？ "
   ]
  },
  {
   "cell_type": "markdown",
   "metadata": {},
   "source": [
    "- [Google AI blog](https://ai.googleblog.com/)\n",
    "- [Facebook Research blog](https://research.fb.com/blog/)\n",
    "- [Apple machine learning journal](https://machinelearning.apple.com/)\n",
    "- [機器之心](https://www.jiqizhixin.com/)\n",
    "- [雷鋒網](http://www.leiphone.com/category/ai)"
   ]
  },
  {
   "cell_type": "code",
   "execution_count": null,
   "metadata": {},
   "outputs": [],
   "source": [
    "Google AI Blog\n",
    "https://ai.googleblog.com/\n",
    "LEAF: A Learnable Frontend for Audio Classification\n",
    "Friday,March 12,2021    \n",
    "    \n",
    "文中第二段\n",
    "1.\n",
    "雖然在國去幾年機器學習(ML)模型上取得了巨大的進展,但他受到固定功能(fixed feature)固有偏差(inherent biases)所限制.\n",
    "儘管匹配的人類感知為某些應用領域（如語音辨識或音樂理解）提供了良好的歸納偏見，但這些偏見可能不利於模仿人耳不重要的領域，例如識別鯨魚叫聲。\n",
    "因此，為了實現最佳性能，應針對感興趣的任務定製梅爾過濾庫，這是一個乏味的過程，需要專家領域知識的迭期努力。\n",
    "\n",
    "2.\n",
    "文中第三段\n",
    "在ICLR的\" “LEAF, A Fully Learnable Frontend for Audio Classification\"中,提出了為音訊理解任務製作可學光譜的替代方法\n",
    "LEarnable 音訊前端 （LEAF） 是一個神經網路，可以初始化為近似梅爾濾波器，然後與任何音訊分類器聯合訓練，以適應手頭的任務，同時只需在完整模型中添加少量參數。\n",
    "在廣泛的音訊信號和分類任務，包括語音，音樂和鳥歌，LEAF光譜提高分類性能超過固定梅爾過濾器庫和超過先前建議的可學習系統。\n",
    "\n",
    "3.\n",
    "Posted by Neil Zeghidour, Research Scientist, Google Research\n",
    "ICLR 2021"
   ]
  }
 ],
 "metadata": {
  "kernelspec": {
   "display_name": "Python 3",
   "language": "python",
   "name": "python3"
  },
  "language_info": {
   "codemirror_mode": {
    "name": "ipython",
    "version": 3
   },
   "file_extension": ".py",
   "mimetype": "text/x-python",
   "name": "python",
   "nbconvert_exporter": "python",
   "pygments_lexer": "ipython3",
   "version": "3.8.5"
  }
 },
 "nbformat": 4,
 "nbformat_minor": 2
}
